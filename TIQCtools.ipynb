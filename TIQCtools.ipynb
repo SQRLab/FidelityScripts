{
 "cells": [
  {
   "cell_type": "markdown",
   "id": "9aabce84",
   "metadata": {},
   "source": [
    "# Trapped-Ion Quantum Computing Tools\n",
    "Still very untested and mostly customized for my own purposes. I will be modifying it to be more generally usable."
   ]
  },
  {
   "cell_type": "code",
   "execution_count": 1,
   "id": "2fbe79fc",
   "metadata": {
    "ExecuteTime": {
     "end_time": "2022-12-02T11:37:35.544000-08:00",
     "start_time": "2022-12-02T19:37:25.583Z"
    }
   },
   "outputs": [],
   "source": [
    "using IonSim\n",
    "using QuantumOptics: timeevolution, stochastic, projector"
   ]
  },
  {
   "cell_type": "code",
   "execution_count": 2,
   "id": "3f385bed",
   "metadata": {
    "ExecuteTime": {
     "end_time": "2022-12-02T11:37:44.602000-08:00",
     "start_time": "2022-12-02T19:37:25.934Z"
    }
   },
   "outputs": [
    {
     "name": "stderr",
     "output_type": "stream",
     "text": [
      "PySide6/__init__.py: Unable to import Shiboken from /home/vikk/Documents/Research/sqrlab/crosstalk, /home/vikk/Documents/Research/AXEAP/pyAXEAP, /usr/lib/python310.zip, /usr/lib/python3.10, /usr/lib/python3.10/lib-dynload, /home/vikk/.local/lib/python3.10/site-packages, /usr/lib/python3.10/site-packages\n",
      "\n",
      "** (process:457785): WARNING **: 11:37:41.284: Failed to load shared library 'libgtk-4.so.1' referenced by the typelib: /usr/bin/../lib/julia/libstdc++.so.6: version `GLIBCXX_3.4.30' not found (required by /usr/bin/../lib/libicuuc.so.72)\n"
     ]
    }
   ],
   "source": [
    "import PyPlot\n",
    "const plt = PyPlot;\n",
    "# set some plot configs\n",
    "plt.matplotlib.rc(\"xtick\", top=false)\n",
    "plt.matplotlib.rc(\"ytick\", right=false, left=false)\n",
    "plt.matplotlib.rc(\"axes\", labelsize=20, titlesize=20, grid=true)\n",
    "plt.matplotlib.rc(\"axes\", linewidth=2)\n",
    "plt.matplotlib.rc(\"grid\", alpha=0.25, linestyle=\"--\")\n",
    "plt.matplotlib.rc(\"font\", family=\"Palatino\", weight=\"medium\")\n",
    "plt.matplotlib.rc(\"figure\", figsize=(8,4))\n",
    "plt.matplotlib.rc(\"xtick.major\", width=2)\n",
    "plt.matplotlib.rc(\"ytick.major\", width=2)"
   ]
  },
  {
   "cell_type": "markdown",
   "id": "f93ea6ea",
   "metadata": {},
   "source": [
    "## Constants"
   ]
  },
  {
   "cell_type": "code",
   "execution_count": 3,
   "id": "d74603cc",
   "metadata": {
    "ExecuteTime": {
     "end_time": "2022-12-02T11:37:45.626000-08:00",
     "start_time": "2022-12-02T19:37:27.403Z"
    }
   },
   "outputs": [
    {
     "data": {
      "text/plain": [
       "6.655112212e-26"
      ]
     },
     "execution_count": 3,
     "metadata": {},
     "output_type": "execute_result"
    }
   ],
   "source": [
    "c = 299792458 # units of m/s\n",
    "q_e = 1.60218e-19 # units of C\n",
    "amu = 1.66054e-27 # units of kg\n",
    "e0 = 8.854188e-12 # units of F/m\n",
    "m_calcium = 40.078*amu # Default ion"
   ]
  },
  {
   "cell_type": "code",
   "execution_count": 4,
   "id": "ffb2e7c0",
   "metadata": {
    "ExecuteTime": {
     "end_time": "2022-12-02T11:37:50.489000-08:00",
     "start_time": "2022-12-02T19:37:27.719Z"
    }
   },
   "outputs": [
    {
     "data": {
      "text/plain": [
       "⁴⁰Ca\n"
      ]
     },
     "execution_count": 4,
     "metadata": {},
     "output_type": "execute_result"
    }
   ],
   "source": [
    "C = Ca40([\"S-1/2\", \"D-1/2\"])"
   ]
  },
  {
   "cell_type": "markdown",
   "id": "b91c8747",
   "metadata": {},
   "source": [
    "## Ion Positions"
   ]
  },
  {
   "cell_type": "code",
   "execution_count": 5,
   "id": "98303755",
   "metadata": {
    "ExecuteTime": {
     "end_time": "2022-12-02T11:37:52.495000-08:00",
     "start_time": "2022-12-02T19:37:29.017Z"
    }
   },
   "outputs": [
    {
     "data": {
      "text/plain": [
       "lengthScale (generic function with 2 methods)"
      ]
     },
     "execution_count": 5,
     "metadata": {},
     "output_type": "execute_result"
    }
   ],
   "source": [
    "using NLsolve\n",
    "\n",
    "function IonPositionsV!(V, u)\n",
    "    N = length(u)\n",
    "    for m in 1:1:N\n",
    "        V[m] = u[m] - sum([1/(u[m]-u[n])^2 for n in 1:1:m-1]) + sum([1/(u[m]-u[n])^2 for n in m+1:1:N])\n",
    "    end\n",
    "end\n",
    "\n",
    "function calcScaledIonPositions(N::Integer)\n",
    "    extreme = 0.481*N^0.765\n",
    "    initial = collect(-extreme:2extreme/(N-1):extreme)\n",
    "    res = nlsolve(IonPositionsV!,initial)\n",
    "    return res.zero\n",
    "end\n",
    "\n",
    "lengthScale(ν,M,Z=1) = ((Z^2*q_e^2)/(4*pi*e0*M*ν^2))^(1/3)"
   ]
  },
  {
   "cell_type": "markdown",
   "id": "5133dc3d",
   "metadata": {
    "ExecuteTime": {
     "end_time": "2022-10-04T14:25:22.258000-07:00",
     "start_time": "2022-10-04T21:24:51.136Z"
    }
   },
   "source": [
    "## Mode Calculation"
   ]
  },
  {
   "cell_type": "code",
   "execution_count": 6,
   "id": "267439df",
   "metadata": {
    "ExecuteTime": {
     "end_time": "2022-12-02T11:37:52.564000-08:00",
     "start_time": "2022-12-02T19:37:30.246Z"
    }
   },
   "outputs": [],
   "source": [
    "using LinearAlgebra"
   ]
  },
  {
   "cell_type": "code",
   "execution_count": 7,
   "id": "cefae583",
   "metadata": {
    "ExecuteTime": {
     "end_time": "2022-12-02T11:37:52.754000-08:00",
     "start_time": "2022-12-02T19:37:30.411Z"
    }
   },
   "outputs": [
    {
     "data": {
      "text/plain": [
       "calcVibrationalModes (generic function with 1 method)"
      ]
     },
     "execution_count": 7,
     "metadata": {},
     "output_type": "execute_result"
    }
   ],
   "source": [
    "function calcVibrationalModes(N)\n",
    "    u = calcScaledIonPositions(N)\n",
    "    A = [[m==n ? 1+2*sum([p!=m ? 1/abs(u[m]-u[p])^3 : 0 for p=1:N]) : -2/abs(u[m]-u[n])^3 for m=1:N] for n=1:N]\n",
    "    A = permutedims(hcat(A...))\n",
    "    eigendata = eigen(A)\n",
    "    modes = [(eigendata.values[i],eigendata.vectors[:,i]) for i=1:N]\n",
    "    return modes\n",
    "end"
   ]
  },
  {
   "cell_type": "markdown",
   "id": "a8cf34a9",
   "metadata": {},
   "source": [
    "## Crosstalk Calculation"
   ]
  },
  {
   "cell_type": "code",
   "execution_count": 8,
   "id": "861dd4ba",
   "metadata": {
    "ExecuteTime": {
     "end_time": "2022-12-02T11:37:52.950000-08:00",
     "start_time": "2022-12-02T19:37:31.817Z"
    }
   },
   "outputs": [
    {
     "data": {
      "text/plain": [
       "calcEFieldCrosstalk (generic function with 4 methods)"
      ]
     },
     "execution_count": 8,
     "metadata": {},
     "output_type": "execute_result"
    }
   ],
   "source": [
    "# Laser pointed at particular ion, indicated by index\n",
    "function calcEFieldCrosstalk(N::Integer, lasercenter::Integer, w::Real, ν::Real, M=m_calcium::Real) #\n",
    "    p = calcScaledIonPositions(N).*lengthScale(ν, M) # positions\n",
    "    c = p[lasercenter]\n",
    "    scaledE = [ℯ^(-((p[n]-c)/w)^2) for n in 1:1:N]\n",
    "    scaledE /= scaledE[1]\n",
    "end\n",
    "\n",
    "# Laser pointed at point, indicated by real number \"index\" (1.5 means halfway between ions 1 and 2)\n",
    "function calcEFieldCrosstalk(N::Integer, lasercenter::Real, w::Real, ν::Real, M=m_calcium::Real) #\n",
    "    p = calcScaledIonPositions(N).*lengthScale(ν, M) # positions\n",
    "    left = Int(floor(lasercenter))\n",
    "    if left == length(p)\n",
    "        c = p[t]\n",
    "    else\n",
    "        c = (p[left+1]-p[left])*(lasercenter%1)+p[left]\n",
    "    end\n",
    "    scaledE = [ℯ^(-((p[n]-c)/w)^2) for n in 1:1:N]\n",
    "    scaledE /= scaledE[1]\n",
    "end"
   ]
  },
  {
   "cell_type": "markdown",
   "id": "1591f115",
   "metadata": {},
   "source": [
    "## Solution Analysis"
   ]
  },
  {
   "cell_type": "code",
   "execution_count": 9,
   "id": "a7f9b133",
   "metadata": {
    "ExecuteTime": {
     "end_time": "2022-12-02T11:37:53.116000-08:00",
     "start_time": "2022-12-02T19:37:33.444Z"
    }
   },
   "outputs": [
    {
     "data": {
      "text/plain": [
       "extractIonProbabilities (generic function with 1 method)"
      ]
     },
     "execution_count": 9,
     "metadata": {},
     "output_type": "execute_result"
    }
   ],
   "source": [
    "function extractIonProbabilities(sol, T::Trap, ionindex, sublevel)\n",
    "    IC = T.configuration\n",
    "    modes = get_vibrational_modes(IC)\n",
    "    N = length(T.configuration.ions)\n",
    "    ion = IC.ions[ionindex]\n",
    "    ions_to_trace_out = deleteat!(collect(1:N),ionindex)\n",
    "    ρ_red = [ptrace(ψ ⊗ dagger(ψ), ions_to_trace_out) for ψ=sol]\n",
    "    observable = projector(ion[sublevel]) ⊗ tensor([one(m) for m=modes]...)\n",
    "    probs = expect(observable,ρ_red)\n",
    "    return probs\n",
    "end"
   ]
  },
  {
   "cell_type": "code",
   "execution_count": 10,
   "id": "025ec065",
   "metadata": {
    "ExecuteTime": {
     "end_time": "2022-12-02T11:37:53.297000-08:00",
     "start_time": "2022-12-02T19:37:33.776Z"
    }
   },
   "outputs": [
    {
     "data": {
      "text/plain": [
       "createBellState (generic function with 1 method)"
      ]
     },
     "execution_count": 10,
     "metadata": {},
     "output_type": "execute_result"
    }
   ],
   "source": [
    "function createBellState(N, ionindices)\n",
    "    bellstate = normalize(tensor([C[\"S-1/2\"] for i=1:N])\n",
    "        + 1im*tensor([i in ionindices ? C[\"D-1/2\"] : C[\"S-1/2\"] for i=1:N]))\n",
    "end"
   ]
  },
  {
   "cell_type": "code",
   "execution_count": 11,
   "id": "95bde06d",
   "metadata": {
    "ExecuteTime": {
     "end_time": "2022-12-02T11:37:53.456000-08:00",
     "start_time": "2022-12-02T19:37:35.039Z"
    }
   },
   "outputs": [
    {
     "data": {
      "text/plain": [
       "extractBellStateProbabilities (generic function with 1 method)"
      ]
     },
     "execution_count": 11,
     "metadata": {},
     "output_type": "execute_result"
    }
   ],
   "source": [
    "function extractBellStateProbabilities(sol, T::Trap, ionindices)\n",
    "    IC = T.configuration\n",
    "    modes = get_vibrational_modes(IC)\n",
    "    N = length(T.configuration.ions)\n",
    "    bellstate = createBellState(N, ionindices)\n",
    "    observable = projector(bellstate) ⊗ tensor([one(m) for m=modes]...)\n",
    "    probs = abs.(expect(observable, sol))\n",
    "    return probs\n",
    "end"
   ]
  },
  {
   "cell_type": "code",
   "execution_count": 12,
   "id": "c389888e",
   "metadata": {
    "ExecuteTime": {
     "end_time": "2022-12-02T11:37:53.660000-08:00",
     "start_time": "2022-12-02T19:37:35.443Z"
    }
   },
   "outputs": [
    {
     "data": {
      "text/plain": [
       "extractModeProbabilities (generic function with 1 method)"
      ]
     },
     "execution_count": 12,
     "metadata": {},
     "output_type": "execute_result"
    }
   ],
   "source": [
    "function extractModeProbabilities(sol, T::Trap, ionindex, modeindex, modelevel)\n",
    "    IC = T.configuration\n",
    "    modes = get_vibrational_modes(IC)\n",
    "    N = length(T.configuration.ions)\n",
    "    ion = IC.ions[ionindex]\n",
    "    ions_to_trace_out = deleteat!(collect(1:N),ionindex)\n",
    "    ρ_red = [ptrace(ψ ⊗ dagger(ψ), ions_to_trace_out) for ψ=sol]\n",
    "    observable = one(ion) ⊗ tensor([one(m) for m=modes[1:modeindex-1]]) ⊗\n",
    "        projector(modes[modelevel]) ⊗ tensor([one(m) for m=modes[modeindex+1:end]])\n",
    "    probs = expect(observable,ρ_red)\n",
    "    return probs\n",
    "end"
   ]
  },
  {
   "cell_type": "markdown",
   "id": "30d8f944",
   "metadata": {},
   "source": [
    "## Oscillation Period Estimation"
   ]
  },
  {
   "cell_type": "code",
   "execution_count": 13,
   "id": "a8025e56",
   "metadata": {
    "ExecuteTime": {
     "end_time": "2022-12-02T11:37:53.823000-08:00",
     "start_time": "2022-12-02T19:37:37.118Z"
    }
   },
   "outputs": [
    {
     "data": {
      "text/plain": [
       "estimateOscillationPeriod (generic function with 1 method)"
      ]
     },
     "execution_count": 13,
     "metadata": {},
     "output_type": "execute_result"
    }
   ],
   "source": [
    "modelf(x,T,ϕ) = (sin((2π*x/T)+ϕ)+1)/2\n",
    "error(data,T,ϕ)=sum((modelf(x,T,ϕ)-data[x])^2 for x=1:length(data))\n",
    "function estimateOscillationPeriod(times, signal, Trange, accuracy_level, ϕ)\n",
    "    r = Trange\n",
    "    errors = []\n",
    "    lowesti = -1\n",
    "    strafecount = 1000\n",
    "    for level=1:accuracy_level\n",
    "        println(r)\n",
    "        if r.start==r.stop\n",
    "            break\n",
    "        end\n",
    "        step = ((r.stop-r.start))/strafecount\n",
    "        errors = [[real(T),real(error(signal,T,ϕ))] for T=r.start:step:r.stop]\n",
    "        lowesti = findmin(real.(getindex.(errors,2)))[2]\n",
    "        #println(findmin(real.(getindex.(errors,2))))\n",
    "        #println(lowesti)\n",
    "        r = r[Int(round(step*(max(1, lowesti-1)-1)))+1]:r[Int(round(step*(min(length(errors),lowesti+1)-1)))+1]\n",
    "        #print(real(errors[lowesti][2]))\n",
    "    end\n",
    "    return errors[lowesti][1]*tout[end]/length(tout)\n",
    "end"
   ]
  },
  {
   "cell_type": "markdown",
   "id": "2854d744",
   "metadata": {},
   "source": [
    "## Running Sims"
   ]
  },
  {
   "cell_type": "code",
   "execution_count": 14,
   "id": "712dd4d4",
   "metadata": {
    "ExecuteTime": {
     "end_time": "2022-12-02T11:37:54.010000-08:00",
     "start_time": "2022-12-02T19:37:38.728Z"
    }
   },
   "outputs": [
    {
     "data": {
      "text/plain": [
       "runSim (generic function with 1 method)"
      ]
     },
     "execution_count": 14,
     "metadata": {},
     "output_type": "execute_result"
    }
   ],
   "source": [
    "function setMSLasers(T, target_modenum, pointing)\n",
    "    L1, L2 = T.lasers\n",
    "    L1.pointing = pointing\n",
    "    L2.pointing = pointing\n",
    "    \n",
    "    # Set the laser parameters\n",
    "    ϵ = 40e3\n",
    "    d = 80  # corrects for AC stark shift from single-photon coupling to sidebands\n",
    "    target_mode = T.configuration.vibrational_modes.z[1]\n",
    "    Δf = transition_frequency(T, 1, (\"S-1/2\", \"D-1/2\"))\n",
    "    L1.Δ = Δf + target_mode.ν + ϵ - d\n",
    "    L1.k = ẑ\n",
    "    L1.ϵ = x̂\n",
    "\n",
    "    L2.Δ = Δf - target_mode.ν - ϵ + d\n",
    "    L2.k = ẑ\n",
    "    L2.ϵ = x̂\n",
    "    L1.E = 43694.035471187046\n",
    "    L2.E = 43694.035471187046\n",
    "end    \n",
    "\n",
    "function setEfield(T, target_modenum, target_ions)\n",
    "    ionlist = T.configuration.ions\n",
    "    target_mode = T.configuration.vibrational_modes.z[1]\n",
    "    L1 = T.lasers[1]\n",
    "    ionindex = target_ions[1]\n",
    "    η = abs(get_η(target_mode, L1, ionlist[ionindex]))\n",
    "    ϵ = 40e3\n",
    "    Ω1 = √(1e3 * ϵ) / η  # This will give a 1kHz MS strength, since coupling goes like (ηΩ)^2/ϵ\n",
    "    Efield_from_rabi_frequency!(Ω1, T, 1, ionindex, (\"S-1/2\", \"D-1/2\"))\n",
    "    Efield_from_rabi_frequency!(Ω1, T, 2, ionindex, (\"S-1/2\", \"D-1/2\"));\n",
    "end\n",
    "\n",
    "function createMSTrap(N, target_modenum, target_ions)\n",
    "    # if target_modenum == 1\n",
    "    #     modenums = [1,2]\n",
    "    # elseif target_modenum == N\n",
    "    #     modenums = [N-1, N]\n",
    "    # else\n",
    "    #     modenums = [target_modenum-1, target_modenum, target_modenum+1]\n",
    "    # end\n",
    "    modenums = [target_modenum]\n",
    "    ionlist = [copy(C) for i in 1:1:N];\n",
    "    chain = LinearChain(\n",
    "        ions=ionlist, com_frequencies=(x=3e6,y=3e6,z=1e6), \n",
    "        vibrational_modes=(x=[],y=[],z=modenums)\n",
    "    )\n",
    "    pointing = [i in target_ions ? (i,1.0) : (i,0.0) for i=1:N]\n",
    "    T = Trap(configuration=chain, B=4e-4, Bhat=(x̂ + ẑ)/√2, lasers=[Laser(), Laser()])\n",
    "    setMSLasers(T, target_modenum, pointing)\n",
    "#     setEfield(T, target_modenum, target_ions)\n",
    "    return T\n",
    "end\n",
    "\n",
    "function createInitialState(T)\n",
    "    N = length(T.configuration.ions)\n",
    "    ψ0 = ionstate(T, repeat([\"S-1/2\"],N)...) ⊗ tensor([mode[0] for mode=T.configuration.vibrational_modes.z]);  # initial state\n",
    "end\n",
    "\n",
    "function runSim(T, ψ0, tspan)\n",
    "    h = hamiltonian(T, rwa_cutoff=5e5)\n",
    "    tout, sol = timeevolution.schroedinger_dynamic(tspan, ψ0, h)\n",
    "    return tout, sol\n",
    "end"
   ]
  },
  {
   "cell_type": "code",
   "execution_count": null,
   "id": "b5782747",
   "metadata": {},
   "outputs": [],
   "source": []
  }
 ],
 "metadata": {
  "kernelspec": {
   "display_name": "Julia 1.7.2",
   "language": "julia",
   "name": "julia-1.7"
  },
  "language_info": {
   "file_extension": ".jl",
   "mimetype": "application/julia",
   "name": "julia",
   "version": "1.7.2"
  },
  "toc": {
   "base_numbering": 1,
   "nav_menu": {},
   "number_sections": false,
   "sideBar": true,
   "skip_h1_title": false,
   "title_cell": "Table of Contents",
   "title_sidebar": "Contents",
   "toc_cell": false,
   "toc_position": {},
   "toc_section_display": true,
   "toc_window_display": false
  }
 },
 "nbformat": 4,
 "nbformat_minor": 5
}
